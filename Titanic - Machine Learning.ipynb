{
 "cells": [
  {
   "cell_type": "markdown",
   "id": "5996916d",
   "metadata": {},
   "source": [
    "# Introduction\n",
    "Hello Kagglers and everyone else, this is where I am going to display my working process on doing the Titanic competition. This is also my first time learning and demonstrating what I've learned about Machine Learning and using Python for its language (previously used R).\n",
    "\n",
    "**Goal**\n",
    "The goal of this project is to do an Exploratory Data Analysis (EDA), apply Machine Learning, and submit the prediction.\n",
    "\n",
    "**New Skills learnt and apply here**\n",
    "* Machine Learning\n",
    "* Using Python as the primary language\n",
    "* Using Jupyter Notebook"
   ]
  },
  {
   "cell_type": "markdown",
   "id": "1969b865",
   "metadata": {},
   "source": [
    "# Exploratory Data Analysis\n",
    "We start off by importing libraries and understand the context of the data."
   ]
  },
  {
   "cell_type": "code",
   "execution_count": null,
   "id": "b729e4cc",
   "metadata": {},
   "outputs": [],
   "source": [
    "# Import libraries\n",
    "import numpy as np\n",
    "import pandas as pd"
   ]
  },
  {
   "cell_type": "code",
   "execution_count": 2,
   "id": "6c2a921f",
   "metadata": {},
   "outputs": [],
   "source": [
    "# Loading the dataset\n",
    "data = pd.read_csv('/kaggle/input/titanic/train.csv')\n",
    "test = pd.read_csv('/kaggle/input/titanic/test.csv')\n",
    "test_ids = test[\"PassengerId\"]\n",
    "\n",
    "# View the Titanic data\n",
    "data"
   ]
  },
  {
   "cell_type": "markdown",
   "id": "ff24f214",
   "metadata": {},
   "source": [
    "*Since I'm using a notebook, I can just type in \"data\" to display the data without typing \"print()\".*\n",
    "\n",
    "I'll need to drop the fields not related, or has insignificant impact.\n",
    "\n",
    "**PassngerId** field\n",
    "\n",
    "PassengerId is a unique identifier to show its number in the table, like an index. It is irrelevant for analysis and making predictions.\n",
    "\n",
    "**Name** field\n",
    "\n",
    "Although names may have an impact to survivability in this incident, it is stil safe to say that they don't have a huge impact in surviving. Maybe English names may have more effect but I can't be sure unless I find the correlation between names, how people view names during that time, and social classes to their survivability rate.\n",
    "\n",
    "**Ticket** field\n",
    "\n",
    "Same thing with tickets. During the disaster, it is also safe to say that they won't be checking the tickets to see who may go on the lifeboat or not, we I can exclude that data from this analysis.\n",
    "\n",
    "**Cabin** field\n",
    "\n",
    "It is possible for the cabin's position to affect the passenger's survivability rate yet with too many NaN values makes the data unreliable.\n"
   ]
  },
  {
   "cell_type": "code",
   "execution_count": 4,
   "id": "d6111faf",
   "metadata": {},
   "outputs": [],
   "source": [
    "def clean(data):\n",
    "    data = data.drop([\"PassengerId\", \"Name\", \"Ticket\", \"Cabin\"], axis=1)\n",
    "    \n",
    "    cols = [\"SibSp\", \"Parch\", \"Fare\", \"Age\"]\n",
    "    for col in cols:\n",
    "        data[col].fillna(data[col].median(), inplace=True)\n",
    "    \n",
    "    data.Embarked.fillna(\"U\", inplace=True)\n",
    "    return data\n",
    "\n",
    "data = clean(data)\n",
    "test = clean(test)"
   ]
  },
  {
   "cell_type": "code",
   "execution_count": 5,
   "id": "0d721763",
   "metadata": {},
   "outputs": [
    {
     "data": {
      "text/html": [
       "<div>\n",
       "<style scoped>\n",
       "    .dataframe tbody tr th:only-of-type {\n",
       "        vertical-align: middle;\n",
       "    }\n",
       "\n",
       "    .dataframe tbody tr th {\n",
       "        vertical-align: top;\n",
       "    }\n",
       "\n",
       "    .dataframe thead th {\n",
       "        text-align: right;\n",
       "    }\n",
       "</style>\n",
       "<table border=\"1\" class=\"dataframe\">\n",
       "  <thead>\n",
       "    <tr style=\"text-align: right;\">\n",
       "      <th></th>\n",
       "      <th>Survived</th>\n",
       "      <th>Pclass</th>\n",
       "      <th>Sex</th>\n",
       "      <th>Age</th>\n",
       "      <th>SibSp</th>\n",
       "      <th>Parch</th>\n",
       "      <th>Fare</th>\n",
       "      <th>Embarked</th>\n",
       "    </tr>\n",
       "  </thead>\n",
       "  <tbody>\n",
       "    <tr>\n",
       "      <th>0</th>\n",
       "      <td>0</td>\n",
       "      <td>3</td>\n",
       "      <td>male</td>\n",
       "      <td>22.0</td>\n",
       "      <td>1</td>\n",
       "      <td>0</td>\n",
       "      <td>7.2500</td>\n",
       "      <td>S</td>\n",
       "    </tr>\n",
       "    <tr>\n",
       "      <th>1</th>\n",
       "      <td>1</td>\n",
       "      <td>1</td>\n",
       "      <td>female</td>\n",
       "      <td>38.0</td>\n",
       "      <td>1</td>\n",
       "      <td>0</td>\n",
       "      <td>71.2833</td>\n",
       "      <td>C</td>\n",
       "    </tr>\n",
       "    <tr>\n",
       "      <th>2</th>\n",
       "      <td>1</td>\n",
       "      <td>3</td>\n",
       "      <td>female</td>\n",
       "      <td>26.0</td>\n",
       "      <td>0</td>\n",
       "      <td>0</td>\n",
       "      <td>7.9250</td>\n",
       "      <td>S</td>\n",
       "    </tr>\n",
       "    <tr>\n",
       "      <th>3</th>\n",
       "      <td>1</td>\n",
       "      <td>1</td>\n",
       "      <td>female</td>\n",
       "      <td>35.0</td>\n",
       "      <td>1</td>\n",
       "      <td>0</td>\n",
       "      <td>53.1000</td>\n",
       "      <td>S</td>\n",
       "    </tr>\n",
       "    <tr>\n",
       "      <th>4</th>\n",
       "      <td>0</td>\n",
       "      <td>3</td>\n",
       "      <td>male</td>\n",
       "      <td>35.0</td>\n",
       "      <td>0</td>\n",
       "      <td>0</td>\n",
       "      <td>8.0500</td>\n",
       "      <td>S</td>\n",
       "    </tr>\n",
       "  </tbody>\n",
       "</table>\n",
       "</div>"
      ],
      "text/plain": [
       "   Survived  Pclass     Sex   Age  SibSp  Parch     Fare Embarked\n",
       "0         0       3    male  22.0      1      0   7.2500        S\n",
       "1         1       1  female  38.0      1      0  71.2833        C\n",
       "2         1       3  female  26.0      0      0   7.9250        S\n",
       "3         1       1  female  35.0      1      0  53.1000        S\n",
       "4         0       3    male  35.0      0      0   8.0500        S"
      ]
     },
     "execution_count": 5,
     "metadata": {},
     "output_type": "execute_result"
    }
   ],
   "source": [
    "# View the Describe data\n",
    "data.head(5)"
   ]
  },
  {
   "cell_type": "markdown",
   "id": "c49888e2",
   "metadata": {},
   "source": [
    "This note is taken from [Titanic Competitions Page](https://www.kaggle.com/competitions/titanic/data?select=train.csv)\n",
    "\n",
    "**Variable Notes**\n",
    "\n",
    "***pclass:*** A proxy for socio-economic status (SES)\n",
    "\n",
    "* 1st = Upper\n",
    "* 2nd = Middle\n",
    "* 3rd = Lower\n",
    "\n",
    "***age:*** Age is fractional if less than 1. If the age is estimated, is it in the form of xx.5\n",
    "\n",
    "***sibsp:*** The dataset defines family relations in this way...\n",
    "* Sibling = brother, sister, stepbrother, stepsister\n",
    "* Spouse = husband, wife, (mistresses and fiancés were ignored)\n",
    "\n",
    "***parch:*** The dataset defines family relations in this way...\n",
    "* Parent = mother, father\n",
    "* Child = daughter, son, stepdaughter, stepson\n",
    "* Some children travelled only with a nanny, therefore parch=0 for them"
   ]
  },
  {
   "cell_type": "markdown",
   "id": "67d6d324",
   "metadata": {},
   "source": [
    "# Prepare Data for Machine Learning\n",
    "\n",
    "I'll be using **preprocessing** from **sklearn** library to prepare the data for use in a machine learning algorithm. It will clean the data to remove missing or invalid values, scaling or nornamlizing the data, and transforming the data in some way to make it more suitable for the machine learning algorithm."
   ]
  },
  {
   "cell_type": "code",
   "execution_count": 7,
   "id": "1bb76abb",
   "metadata": {},
   "outputs": [
    {
     "name": "stdout",
     "output_type": "stream",
     "text": [
      "['female' 'male']\n",
      "['C' 'Q' 'S' 'U']\n"
     ]
    },
    {
     "data": {
      "text/html": [
       "<div>\n",
       "<style scoped>\n",
       "    .dataframe tbody tr th:only-of-type {\n",
       "        vertical-align: middle;\n",
       "    }\n",
       "\n",
       "    .dataframe tbody tr th {\n",
       "        vertical-align: top;\n",
       "    }\n",
       "\n",
       "    .dataframe thead th {\n",
       "        text-align: right;\n",
       "    }\n",
       "</style>\n",
       "<table border=\"1\" class=\"dataframe\">\n",
       "  <thead>\n",
       "    <tr style=\"text-align: right;\">\n",
       "      <th></th>\n",
       "      <th>Survived</th>\n",
       "      <th>Pclass</th>\n",
       "      <th>Sex</th>\n",
       "      <th>Age</th>\n",
       "      <th>SibSp</th>\n",
       "      <th>Parch</th>\n",
       "      <th>Fare</th>\n",
       "      <th>Embarked</th>\n",
       "    </tr>\n",
       "  </thead>\n",
       "  <tbody>\n",
       "    <tr>\n",
       "      <th>0</th>\n",
       "      <td>0</td>\n",
       "      <td>3</td>\n",
       "      <td>1</td>\n",
       "      <td>22.0</td>\n",
       "      <td>1</td>\n",
       "      <td>0</td>\n",
       "      <td>7.2500</td>\n",
       "      <td>2</td>\n",
       "    </tr>\n",
       "    <tr>\n",
       "      <th>1</th>\n",
       "      <td>1</td>\n",
       "      <td>1</td>\n",
       "      <td>0</td>\n",
       "      <td>38.0</td>\n",
       "      <td>1</td>\n",
       "      <td>0</td>\n",
       "      <td>71.2833</td>\n",
       "      <td>0</td>\n",
       "    </tr>\n",
       "    <tr>\n",
       "      <th>2</th>\n",
       "      <td>1</td>\n",
       "      <td>3</td>\n",
       "      <td>0</td>\n",
       "      <td>26.0</td>\n",
       "      <td>0</td>\n",
       "      <td>0</td>\n",
       "      <td>7.9250</td>\n",
       "      <td>2</td>\n",
       "    </tr>\n",
       "    <tr>\n",
       "      <th>3</th>\n",
       "      <td>1</td>\n",
       "      <td>1</td>\n",
       "      <td>0</td>\n",
       "      <td>35.0</td>\n",
       "      <td>1</td>\n",
       "      <td>0</td>\n",
       "      <td>53.1000</td>\n",
       "      <td>2</td>\n",
       "    </tr>\n",
       "    <tr>\n",
       "      <th>4</th>\n",
       "      <td>0</td>\n",
       "      <td>3</td>\n",
       "      <td>1</td>\n",
       "      <td>35.0</td>\n",
       "      <td>0</td>\n",
       "      <td>0</td>\n",
       "      <td>8.0500</td>\n",
       "      <td>2</td>\n",
       "    </tr>\n",
       "  </tbody>\n",
       "</table>\n",
       "</div>"
      ],
      "text/plain": [
       "   Survived  Pclass  Sex   Age  SibSp  Parch     Fare  Embarked\n",
       "0         0       3    1  22.0      1      0   7.2500         2\n",
       "1         1       1    0  38.0      1      0  71.2833         0\n",
       "2         1       3    0  26.0      0      0   7.9250         2\n",
       "3         1       1    0  35.0      1      0  53.1000         2\n",
       "4         0       3    1  35.0      0      0   8.0500         2"
      ]
     },
     "execution_count": 7,
     "metadata": {},
     "output_type": "execute_result"
    }
   ],
   "source": [
    "from sklearn import preprocessing\n",
    "le = preprocessing.LabelEncoder()\n",
    "\n",
    "cols = [\"Sex\", \"Embarked\"]\n",
    "\n",
    "for col in cols:\n",
    "    data[col] = le.fit_transform(data[col])\n",
    "    test[col] = le.transform(test[col])\n",
    "    print(le.classes_)\n",
    "    \n",
    "data.head(5)"
   ]
  },
  {
   "cell_type": "markdown",
   "id": "5867b29d",
   "metadata": {},
   "source": [
    "**It is automatically mapped to:**\n",
    "\n",
    "* Female = 0\n",
    "* Male = 1\n",
    "* C = 0\n",
    "* Q = 1\n",
    "* S = 2\n",
    "* U = 3\n",
    "\n",
    "There are multiple algorithm to use for machine learning but I'll be using **Logistic Regression** because the predicted probability is transformed using the logistic function to map the predicted value to a value between 0 and 1, which can be interpreted as a probability."
   ]
  },
  {
   "cell_type": "code",
   "execution_count": 8,
   "id": "6d51c01c",
   "metadata": {},
   "outputs": [],
   "source": [
    "from sklearn.linear_model import LogisticRegression\n",
    "from sklearn.model_selection import train_test_split\n",
    "\n",
    "y = data[\"Survived\"]\n",
    "X = data.drop(\"Survived\", axis=1)\n",
    "\n",
    "X_train, X_val, y_train, y_val = train_test_split(X, y, test_size=0.2, random_state=42)"
   ]
  },
  {
   "cell_type": "code",
   "execution_count": 9,
   "id": "135b795c",
   "metadata": {},
   "outputs": [],
   "source": [
    "model = LogisticRegression(random_state=0, max_iter=1000).fit(X_train, y_train)"
   ]
  },
  {
   "cell_type": "code",
   "execution_count": 10,
   "id": "ce2b9bc8",
   "metadata": {},
   "outputs": [
    {
     "data": {
      "text/plain": [
       "0.8100558659217877"
      ]
     },
     "execution_count": 10,
     "metadata": {},
     "output_type": "execute_result"
    }
   ],
   "source": [
    "predictions = model.predict(X_val)\n",
    "from sklearn.metrics import accuracy_score\n",
    "accuracy_score(y_val, predictions)"
   ]
  },
  {
   "cell_type": "code",
   "execution_count": 11,
   "id": "4d694b62",
   "metadata": {},
   "outputs": [],
   "source": [
    "submission_preds = model.predict(test)"
   ]
  },
  {
   "cell_type": "code",
   "execution_count": 12,
   "id": "030b5c3c",
   "metadata": {},
   "outputs": [],
   "source": [
    "df = pd.DataFrame({\"PassengerId\":test_ids.values,\n",
    "                   \"Survived\":submission_preds,\n",
    "                  })"
   ]
  },
  {
   "cell_type": "code",
   "execution_count": 13,
   "id": "2ef07afc",
   "metadata": {},
   "outputs": [],
   "source": [
    "df.to_csv(\"submission.csv\", index=False)"
   ]
  },
  {
   "cell_type": "markdown",
   "id": "967dac8c",
   "metadata": {},
   "source": [
    "# Conclusion\n",
    "I've submitted my predictions, it returns a lower score result of** 0.76315** or **76%** while the validation data shows that I got a score of **0.81** or **81%**. I'm unsure how good the result is, but considering I dropped a few columns, I say it is quite good.\n",
    "\n",
    "The result can probably be higher if I used a much more complicated model and not dropping any data but since this is my first time using Python and Machine Learning, it is a satisfactory result."
   ]
  }
 ],
 "metadata": {
  "kernelspec": {
   "display_name": "Python 3 (ipykernel)",
   "language": "python",
   "name": "python3"
  },
  "language_info": {
   "codemirror_mode": {
    "name": "ipython",
    "version": 3
   },
   "file_extension": ".py",
   "mimetype": "text/x-python",
   "name": "python",
   "nbconvert_exporter": "python",
   "pygments_lexer": "ipython3",
   "version": "3.9.13"
  }
 },
 "nbformat": 4,
 "nbformat_minor": 5
}
